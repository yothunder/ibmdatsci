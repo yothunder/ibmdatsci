{
 "cells": [
  {
   "cell_type": "markdown",
   "metadata": {},
   "source": [
    "<center>\n",
    "    <img src=\"https://cf-courses-data.s3.us.cloud-object-storage.appdomain.cloud/IBMDeveloperSkillsNetwork-DS0105EN-SkillsNetwork/labs/Module2/images/SN_web_lightmode.png\" width=\"300\" alt=\"cognitiveclass.ai logo\">\n",
    "</center>\n"
   ]
  },
  {
   "cell_type": "markdown",
   "metadata": {},
   "source": [
    "#### Add your code below following the instructions given in the course\n"
   ]
  },
  {
   "cell_type": "markdown",
   "metadata": {},
   "source": [
    "# A Tyo's Notebook"
   ]
  },
  {
   "cell_type": "markdown",
   "metadata": {},
   "source": [
    "This is a Tyo's notebook for the first IBM Graded Hands-on exercise from Coursera."
   ]
  },
  {
   "cell_type": "markdown",
   "metadata": {},
   "source": [
    "List of data science languages:\n",
    "- Python\n",
    "- R\n",
    "- Julia\n",
    "- SQL\n",
    "- Scala\n",
    "- Java\n",
    "- C++"
   ]
  },
  {
   "cell_type": "markdown",
   "metadata": {},
   "source": [
    "List of data science libraries in Python:\n",
    "- NumPy\n",
    "- Pandas\n",
    "- SciPy\n",
    "- Matplotlib"
   ]
  },
  {
   "cell_type": "markdown",
   "metadata": {},
   "source": [
    "List of data science tools:\n",
    "- Weka\n",
    "- Java-ML\n",
    "- Apache MLlib\n",
    "- Deeplearning4"
   ]
  },
  {
   "cell_type": "markdown",
   "metadata": {},
   "source": [
    "### Examples of arithmetic expression"
   ]
  },
  {
   "cell_type": "code",
   "execution_count": 3,
   "metadata": {},
   "outputs": [
    {
     "name": "stdout",
     "output_type": "stream",
     "text": [
      "a=7, b=11\n",
      "a*b=77\n",
      "a+b=18\n"
     ]
    }
   ],
   "source": [
    "a = 7\n",
    "b = 11\n",
    "\n",
    "# multiplication\n",
    "c = a*b\n",
    "\n",
    "# addition\n",
    "d = a+b\n",
    "\n",
    "print(f\"a={a}, b={b}\")\n",
    "print(f\"a*b={c}\")\n",
    "print(f\"a+b={d}\")"
   ]
  },
  {
   "cell_type": "markdown",
   "metadata": {},
   "source": [
    "### minutes to hour"
   ]
  },
  {
   "cell_type": "code",
   "execution_count": 11,
   "metadata": {},
   "outputs": [
    {
     "name": "stdin",
     "output_type": "stream",
     "text": [
      "Input your minutes:  60\n"
     ]
    },
    {
     "name": "stdout",
     "output_type": "stream",
     "text": [
      "Your minute is 60 minutes\n",
      "Converted to hour, you have: 1.0 hour\n"
     ]
    }
   ],
   "source": [
    "minute = input(f\"Input your minutes: \")\n",
    "hour = float(minute)/60\n",
    "\n",
    "print(f\"Your minute is {minute} minutes\")\n",
    "print(f\"Converted to hour, you have: {hour} hour(s)\")"
   ]
  },
  {
   "cell_type": "markdown",
   "metadata": {},
   "source": [
    "## Objectives\n",
    "\n",
    "- Understand the purpose of the exercise  \n",
    "- Learn how to insert and format Markdown cells in Jupyter Notebook  \n",
    "- Practice listing objectives using Markdown syntax"
   ]
  },
  {
   "cell_type": "markdown",
   "metadata": {},
   "source": [
    "Author: Suwignyo (Tyo) Prasetyo"
   ]
  }
 ],
 "metadata": {
  "kernelspec": {
   "display_name": "Python 3 (ipykernel)",
   "language": "python",
   "name": "python3"
  },
  "language_info": {
   "codemirror_mode": {
    "name": "ipython",
    "version": 3
   },
   "file_extension": ".py",
   "mimetype": "text/x-python",
   "name": "python",
   "nbconvert_exporter": "python",
   "pygments_lexer": "ipython3",
   "version": "3.12.8"
  }
 },
 "nbformat": 4,
 "nbformat_minor": 4
}
